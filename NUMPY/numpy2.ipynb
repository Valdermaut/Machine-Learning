{
  "nbformat": 4,
  "nbformat_minor": 0,
  "metadata": {
    "colab": {
      "name": "numpy2.ipynb",
      "provenance": [],
      "machine_shape": "hm"
    },
    "kernelspec": {
      "name": "python3",
      "display_name": "Python 3"
    }
  },
  "cells": [
    {
      "cell_type": "markdown",
      "metadata": {
        "id": "JmVRN-A8_2Kj",
        "colab_type": "text"
      },
      "source": [
        "### **Mathemical Operations**"
      ]
    },
    {
      "cell_type": "code",
      "metadata": {
        "id": "irQAgwDV_1cO",
        "colab_type": "code",
        "colab": {}
      },
      "source": [
        "import numpy as np \n",
        "import sys"
      ],
      "execution_count": 0,
      "outputs": []
    },
    {
      "cell_type": "code",
      "metadata": {
        "id": "-xBbyKI6-9_K",
        "colab_type": "code",
        "colab": {
          "base_uri": "https://localhost:8080/",
          "height": 85
        },
        "outputId": "ee2fa12b-f032-43cc-f25f-1868c28f3473"
      },
      "source": [
        "a = np.array([[1,1],[0,1]])\n",
        "b = np.array([[2,3],[4,2]])\n",
        "print(\"The first array is : \",a)\n",
        "print(\"The second array is : \",b)"
      ],
      "execution_count": 4,
      "outputs": [
        {
          "output_type": "stream",
          "text": [
            "The first array is :  [[1 1]\n",
            " [0 1]]\n",
            "The second array is :  [[2 3]\n",
            " [4 2]]\n"
          ],
          "name": "stdout"
        }
      ]
    },
    {
      "cell_type": "code",
      "metadata": {
        "id": "jjIiig2zKIM0",
        "colab_type": "code",
        "colab": {
          "base_uri": "https://localhost:8080/",
          "height": 51
        },
        "outputId": "11062de3-55c9-4cde-d636-96980106b31e"
      },
      "source": [
        "np.sqrt(a)"
      ],
      "execution_count": 5,
      "outputs": [
        {
          "output_type": "execute_result",
          "data": {
            "text/plain": [
              "array([[1., 1.],\n",
              "       [0., 1.]])"
            ]
          },
          "metadata": {
            "tags": []
          },
          "execution_count": 5
        }
      ]
    },
    {
      "cell_type": "code",
      "metadata": {
        "id": "13vFbfL5KIQR",
        "colab_type": "code",
        "colab": {
          "base_uri": "https://localhost:8080/",
          "height": 34
        },
        "outputId": "67b5133d-ac3f-4dd0-e029-d4a6c08ab9b5"
      },
      "source": [
        "np.std(a)"
      ],
      "execution_count": 6,
      "outputs": [
        {
          "output_type": "execute_result",
          "data": {
            "text/plain": [
              "0.4330127018922193"
            ]
          },
          "metadata": {
            "tags": []
          },
          "execution_count": 6
        }
      ]
    },
    {
      "cell_type": "code",
      "metadata": {
        "id": "nRuuszH3Koie",
        "colab_type": "code",
        "colab": {
          "base_uri": "https://localhost:8080/",
          "height": 51
        },
        "outputId": "f09724fb-5a1b-4916-b176-3b2cce507338"
      },
      "source": [
        "print(\"The sum is \",a+b)"
      ],
      "execution_count": 7,
      "outputs": [
        {
          "output_type": "stream",
          "text": [
            "The sum is  [[3 4]\n",
            " [4 3]]\n"
          ],
          "name": "stdout"
        }
      ]
    },
    {
      "cell_type": "code",
      "metadata": {
        "id": "k5OUaa0CLrUv",
        "colab_type": "code",
        "colab": {
          "base_uri": "https://localhost:8080/",
          "height": 51
        },
        "outputId": "429d2f52-f011-4be0-d0b4-e556b0887347"
      },
      "source": [
        "print(\"The difference is \",a-b)"
      ],
      "execution_count": 8,
      "outputs": [
        {
          "output_type": "stream",
          "text": [
            "The difference is  [[-1 -2]\n",
            " [-4 -1]]\n"
          ],
          "name": "stdout"
        }
      ]
    },
    {
      "cell_type": "code",
      "metadata": {
        "id": "cfumaaZULrXA",
        "colab_type": "code",
        "colab": {
          "base_uri": "https://localhost:8080/",
          "height": 51
        },
        "outputId": "a75c652f-92e8-41ae-c0ff-aed57fb4652a"
      },
      "source": [
        "print(\"The product is \",a*b)"
      ],
      "execution_count": 9,
      "outputs": [
        {
          "output_type": "stream",
          "text": [
            "The product is  [[2 3]\n",
            " [0 2]]\n"
          ],
          "name": "stdout"
        }
      ]
    },
    {
      "cell_type": "code",
      "metadata": {
        "id": "9TiXISXGLrZ9",
        "colab_type": "code",
        "colab": {
          "base_uri": "https://localhost:8080/",
          "height": 51
        },
        "outputId": "ef7e968e-10d6-4f85-89c2-1827d76d8939"
      },
      "source": [
        "print(\"The dot product is \",a.dot(b))"
      ],
      "execution_count": 13,
      "outputs": [
        {
          "output_type": "stream",
          "text": [
            "The dot product is  [[6 5]\n",
            " [4 2]]\n"
          ],
          "name": "stdout"
        }
      ]
    }
  ]
}