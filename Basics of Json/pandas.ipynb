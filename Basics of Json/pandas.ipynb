{
  "nbformat": 4,
  "nbformat_minor": 0,
  "metadata": {
    "colab": {
      "name": "pandas.ipynb",
      "provenance": []
    },
    "kernelspec": {
      "name": "python3",
      "display_name": "Python 3"
    }
  },
  "cells": [
    {
      "cell_type": "code",
      "metadata": {
        "id": "I0g4zIK9ULD6",
        "colab_type": "code",
        "colab": {
          "base_uri": "https://localhost:8080/",
          "height": 54
        },
        "outputId": "2c90650e-0cbc-48c1-f684-1349d9364117"
      },
      "source": [
        "f = open(\"book.txt\",\"r\")\n",
        "s=f.read()\n",
        "print(s)\n"
      ],
      "execution_count": 2,
      "outputs": [
        {
          "output_type": "stream",
          "text": [
            "{\"tom\": {\"name\": \"tom\", \"address\": \"1 red street, NY\", \"phone\": 98833}, \"bob\": {\"name\": \"bob\", \"address\": \"1 green street, NY\", \"phone\": 232452}}\n"
          ],
          "name": "stdout"
        }
      ]
    },
    {
      "cell_type": "code",
      "metadata": {
        "id": "AekiccJRoQoZ",
        "colab_type": "code",
        "colab": {
          "base_uri": "https://localhost:8080/",
          "height": 54
        },
        "outputId": "f86bbb67-4083-4c76-e4a1-edd373e7aba2"
      },
      "source": [
        "import json\n",
        "book = json.loads(s)\n",
        "print(book)\n",
        "\t\t \n"
      ],
      "execution_count": 4,
      "outputs": [
        {
          "output_type": "stream",
          "text": [
            "{'tom': {'name': 'tom', 'address': '1 red street, NY', 'phone': 98833}, 'bob': {'name': 'bob', 'address': '1 green street, NY', 'phone': 232452}}\n"
          ],
          "name": "stdout"
        }
      ]
    },
    {
      "cell_type": "code",
      "metadata": {
        "id": "j6hch_CjojSW",
        "colab_type": "code",
        "colab": {
          "base_uri": "https://localhost:8080/",
          "height": 34
        },
        "outputId": "4f4bdc95-8bab-4a97-b763-94bb852809a5"
      },
      "source": [
        " type(book)\n",
        "\t\t \n"
      ],
      "execution_count": 5,
      "outputs": [
        {
          "output_type": "execute_result",
          "data": {
            "text/plain": [
              "dict"
            ]
          },
          "metadata": {
            "tags": []
          },
          "execution_count": 5
        }
      ]
    },
    {
      "cell_type": "code",
      "metadata": {
        "id": "l84zFNo1omzI",
        "colab_type": "code",
        "colab": {
          "base_uri": "https://localhost:8080/",
          "height": 34
        },
        "outputId": "db34db31-97a3-49af-9b88-d6c66efc18c8"
      },
      "source": [
        " book['bob']\n",
        "\t\t \n"
      ],
      "execution_count": 6,
      "outputs": [
        {
          "output_type": "execute_result",
          "data": {
            "text/plain": [
              "{'address': '1 green street, NY', 'name': 'bob', 'phone': 232452}"
            ]
          },
          "metadata": {
            "tags": []
          },
          "execution_count": 6
        }
      ]
    },
    {
      "cell_type": "code",
      "metadata": {
        "id": "DK9n4tqaorZq",
        "colab_type": "code",
        "colab": {
          "base_uri": "https://localhost:8080/",
          "height": 34
        },
        "outputId": "42394ab8-8225-4ef7-8932-9279d9f00512"
      },
      "source": [
        "book['bob']['phone']\n",
        "\t\t "
      ],
      "execution_count": 7,
      "outputs": [
        {
          "output_type": "execute_result",
          "data": {
            "text/plain": [
              "232452"
            ]
          },
          "metadata": {
            "tags": []
          },
          "execution_count": 7
        }
      ]
    },
    {
      "cell_type": "code",
      "metadata": {
        "id": "v8ElQbjNovO1",
        "colab_type": "code",
        "colab": {
          "base_uri": "https://localhost:8080/",
          "height": 51
        },
        "outputId": "95e40d4a-8e54-4ede-a15e-28a4ce428678"
      },
      "source": [
        "for person in book :\n",
        "\t\t print(book[person])"
      ],
      "execution_count": 8,
      "outputs": [
        {
          "output_type": "stream",
          "text": [
            "{'name': 'tom', 'address': '1 red street, NY', 'phone': 98833}\n",
            "{'name': 'bob', 'address': '1 green street, NY', 'phone': 232452}\n"
          ],
          "name": "stdout"
        }
      ]
    }
  ]
}